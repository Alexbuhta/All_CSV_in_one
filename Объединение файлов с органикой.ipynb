{
 "cells": [
  {
   "cell_type": "code",
   "execution_count": 1,
   "id": "732c86b6",
   "metadata": {},
   "outputs": [
    {
     "name": "stdout",
     "output_type": "stream",
     "text": [
      "Файл успешно сохранен как CSV.\n"
     ]
    }
   ],
   "source": [
    "import os\n",
    "import csv\n",
    "\n",
    "# Укажите путь к папке \"Organic installs\" на вашем MacBook\n",
    "folder_path = \"/users/severex_analytic_22/downloads/Organic installs\"\n",
    "\n",
    "# Создайте пустой список для хранения содержимого файлов\n",
    "file_content = []\n",
    "\n",
    "# Пройдитесь по всем файлам в папке и добавьте содержимое каждого файла в список\n",
    "for file_name in os.listdir(folder_path):\n",
    "    if file_name.endswith(\".csv\"):\n",
    "        file_path = os.path.join(folder_path, file_name)\n",
    "        with open(file_path, 'r') as file:\n",
    "            content = file.read()\n",
    "            file_content.append(content)\n",
    "\n",
    "# Укажите путь и имя файла для сохранения объединенных данных в формате CSV\n",
    "output_file_path = \"/users/severex_analytic_22/downloads/Organic installs/ALL\"\n",
    "\n",
    "# Сохраните содержимое файлов в один файл CSV\n",
    "with open(output_file_path, 'w', newline='') as file:\n",
    "    writer = csv.writer(file)\n",
    "    for content in file_content:\n",
    "        writer.writerow([content])\n",
    "\n",
    "print(\"Файл успешно сохранен как CSV.\")\n"
   ]
  },
  {
   "cell_type": "code",
   "execution_count": 2,
   "id": "1065ace0",
   "metadata": {},
   "outputs": [
    {
     "name": "stdout",
     "output_type": "stream",
     "text": [
      "Файл успешно сохранен как CSV.\n"
     ]
    }
   ],
   "source": [
    "import os\n",
    "import csv\n",
    "\n",
    "# Укажите путь к папке \"Organic installs\" на вашем MacBook\n",
    "folder_path = \"/users/severex_analytic_22/downloads/Organic installs\"\n",
    "\n",
    "# Создайте пустой список для хранения содержимого файлов\n",
    "file_content = []\n",
    "\n",
    "# Пройдитесь по всем файлам в папке и добавьте содержимое каждого файла в список\n",
    "for file_name in os.listdir(folder_path):\n",
    "    if file_name.endswith(\".csv\"):\n",
    "        file_path = os.path.join(folder_path, file_name)\n",
    "        with open(file_path, 'r') as file:\n",
    "            reader = csv.reader(file)\n",
    "            content = list(reader)\n",
    "            file_content.extend(content)\n",
    "\n",
    "# Укажите путь и имя файла для сохранения объединенных данных в формате CSV\n",
    "output_file_path = \"/users/severex_analytic_22/downloads/Organic installs/ALL\"\n",
    "\n",
    "# Сохраните содержимое файлов в один файл CSV\n",
    "with open(output_file_path, 'w', newline='') as file:\n",
    "    writer = csv.writer(file)\n",
    "    writer.writerows(file_content)\n",
    "\n",
    "print(\"Файл успешно сохранен как CSV.\")\n"
   ]
  },
  {
   "cell_type": "code",
   "execution_count": null,
   "id": "4be64ff1",
   "metadata": {},
   "outputs": [],
   "source": []
  }
 ],
 "metadata": {
  "kernelspec": {
   "display_name": "Python 3 (ipykernel)",
   "language": "python",
   "name": "python3"
  },
  "language_info": {
   "codemirror_mode": {
    "name": "ipython",
    "version": 3
   },
   "file_extension": ".py",
   "mimetype": "text/x-python",
   "name": "python",
   "nbconvert_exporter": "python",
   "pygments_lexer": "ipython3",
   "version": "3.9.7"
  }
 },
 "nbformat": 4,
 "nbformat_minor": 5
}
